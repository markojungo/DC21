{
 "metadata": {
  "language_info": {
   "codemirror_mode": {
    "name": "ipython",
    "version": 3
   },
   "file_extension": ".py",
   "mimetype": "text/x-python",
   "name": "python",
   "nbconvert_exporter": "python",
   "pygments_lexer": "ipython3",
   "version": "3.9.1-final"
  },
  "orig_nbformat": 2,
  "kernelspec": {
   "name": "python3",
   "display_name": "Python 3.9.1 64-bit ('.venv')",
   "metadata": {
    "interpreter": {
     "hash": "92421e52476f6ff33ef831f3ac8f14e6cedc817bd905cef00e1250ed41d24111"
    }
   }
  }
 },
 "nbformat": 4,
 "nbformat_minor": 2,
 "cells": [
  {
   "cell_type": "code",
   "execution_count": null,
   "metadata": {},
   "outputs": [],
   "source": [
    "import covidcast\n",
    "import time\n",
    "import json\n",
    "from datetime import date, datetime\n",
    "import seaborn as sns\n",
    "import matplotlib.pyplot as plt\n",
    "import pandas as pd"
   ]
  },
  {
   "cell_type": "code",
   "execution_count": null,
   "metadata": {},
   "outputs": [],
   "source": []
  },
  {
   "cell_type": "code",
   "execution_count": null,
   "metadata": {},
   "outputs": [],
   "source": [
    "# https://gist.github.com/rogerallen/1583593\n",
    "us_state_abbrev={'Alabama':'AL','Alaska':'AK','American Samoa':'AS','Arizona':'AZ','Arkansas':'AR','California':'CA','Colorado':'CO','Connecticut':'CT','Delaware':'DE','District of Columbia':'DC','Florida':'FL','Georgia':'GA','Guam':'GU','Hawaii':'HI','Idaho':'ID','Illinois':'IL','Indiana':'IN','Iowa':'IA','Kansas':'KS','Kentucky':'KY','Louisiana':'LA','Maine':'ME','Maryland':'MD','Massachusetts':'MA','Michigan':'MI','Minnesota':'MN','Mississippi':'MS','Missouri':'MO','Montana':'MT','Nebraska':'NE','Nevada':'NV','New Hampshire':'NH','New Jersey':'NJ','New Mexico':'NM','New York':'NY','North Carolina':'NC','North Dakota':'ND','Northern Mariana Islands':'MP','Ohio':'OH','Oklahoma':'OK','Oregon':'OR','Pennsylvania':'PA','Puerto Rico':'PR','Rhode Island':'RI','South Carolina':'SC','South Dakota':'SD','Tennessee':'TN','Texas':'TX','Utah':'UT','Vermont':'VT','Virgin Islands':'VI','Virginia':'VA','Washington':'WA','West Virginia':'WV','Wisconsin':'WI','Wyoming':'WY'}\n",
    "\n",
    "abbrev_us_state = dict(map(reversed, us_state_abbrev.items()))"
   ]
  },
  {
   "source": [
    "## Download fb-survey data"
   ],
   "cell_type": "markdown",
   "metadata": {}
  },
  {
   "cell_type": "code",
   "execution_count": 169,
   "metadata": {},
   "outputs": [
    {
     "output_type": "stream",
     "name": "stdout",
     "text": [
      "Downloaded smoothed_wcli. Shape: (16390, 10)\n",
      "Downloaded smoothed_hh_cmnty_cli. Shape: (15931, 10)\n",
      "Downloaded smoothed_wothers_masked. Shape: (4482, 10)\n",
      "Downloaded smoothed_wwearing_mask. Shape: (8339, 10)\n",
      "Downloaded smoothed_wtravel_outside_state_5d. Shape: (16360, 10)\n",
      "Downloaded smoothed_wwork_outside_home_1d. Shape: (8408, 10)\n",
      "Downloaded smoothed_wspent_time_1d. Shape: (8408, 10)\n",
      "Downloaded smoothed_wlarge_event_1d. Shape: (8408, 10)\n",
      "Downloaded smoothed_wpublic_transit_1d. Shape: (8408, 10)\n",
      "Downloaded smoothed_wanxious_5d. Shape: (8406, 10)\n",
      "Downloaded smoothed_wdepressed_5d. Shape: (8405, 10)\n",
      "Downloaded smoothed_wfelt_isolated_5d. Shape: (8405, 10)\n",
      "Downloaded smoothed_wworried_become_ill. Shape: (8407, 10)\n",
      "Downloaded smoothed_wworried_finances. Shape: (8407, 10)\n"
     ]
    }
   ],
   "source": [
    "indicators = {\n",
    "    'smoothed_wcli': None,\n",
    "    'smoothed_hh_cmnty_cli': None,\n",
    "    'smoothed_wothers_masked': None,\n",
    "    'smoothed_wwearing_mask': None,\n",
    "    'smoothed_wtravel_outside_state_5d': None,\n",
    "    'smoothed_wwork_outside_home_1d': None,\n",
    "    'smoothed_wspent_time_1d': None,\n",
    "    'smoothed_wlarge_event_1d': None,\n",
    "    'smoothed_wpublic_transit_1d': None,\n",
    "    'smoothed_wanxious_5d': None,\n",
    "    'smoothed_wdepressed_5d': None,\n",
    "    'smoothed_wfelt_isolated_5d': None,\n",
    "    'smoothed_wworried_become_ill': None,\n",
    "    'smoothed_wworried_finances': None,\n",
    "}\n",
    "\n",
    "for ind in indicators.keys():\n",
    "    temp = covidcast.signal(\n",
    "        'fb-survey', ind,\n",
    "        date(2020, 4, 4), date(2021, 2, 19),\n",
    "        geo_type=\"state\"\n",
    "    )\n",
    "\n",
    "    temp['index'] = temp['geo_value'] + temp['time_value'].astype(str)\n",
    "    temp.rename(columns={\n",
    "        'value': f'{ind}_value',\n",
    "        'stderr': f'{ind}_stderr',\n",
    "        'sample_size': f'{ind}_sample_size'\n",
    "    }, inplace=True)\n",
    "    temp.set_index('index', inplace=True)\n",
    "\n",
    "    indicators[ind] = temp\n",
    "    print(f'Downloaded {ind}. Shape: {temp.shape}')"
   ]
  },
  {
   "source": [
    "## Merge fb-survey data"
   ],
   "cell_type": "markdown",
   "metadata": {}
  },
  {
   "cell_type": "code",
   "execution_count": 171,
   "metadata": {},
   "outputs": [
    {
     "output_type": "stream",
     "name": "stdout",
     "text": [
      "(16396, 49)\n"
     ]
    },
    {
     "output_type": "execute_result",
     "data": {
      "text/plain": [
       "             geo_value         signal time_value      issue    lag  \\\n",
       "index                                                                \n",
       "ak2020-04-06        ak  smoothed_wcli 2020-04-06 2020-09-03  150.0   \n",
       "ak2020-04-07        ak  smoothed_wcli 2020-04-07 2020-09-03  149.0   \n",
       "ak2020-04-08        ak  smoothed_wcli 2020-04-08 2020-09-03  148.0   \n",
       "ak2020-04-09        ak  smoothed_wcli 2020-04-09 2020-09-03  147.0   \n",
       "ak2020-04-10        ak  smoothed_wcli 2020-04-10 2020-09-03  146.0   \n",
       "\n",
       "              smoothed_wcli_value  smoothed_wcli_stderr  \\\n",
       "index                                                     \n",
       "ak2020-04-06             1.502092              0.700182   \n",
       "ak2020-04-07             1.209285              0.385696   \n",
       "ak2020-04-08             1.130105              0.281751   \n",
       "ak2020-04-09             0.935932              0.213790   \n",
       "ak2020-04-10             0.829453              0.187829   \n",
       "\n",
       "              smoothed_wcli_sample_size geo_type data_source  ...  \\\n",
       "index                                                         ...   \n",
       "ak2020-04-06                      412.0    state   fb-survey  ...   \n",
       "ak2020-04-07                     1258.0    state   fb-survey  ...   \n",
       "ak2020-04-08                     1934.0    state   fb-survey  ...   \n",
       "ak2020-04-09                     2447.0    state   fb-survey  ...   \n",
       "ak2020-04-10                     2685.0    state   fb-survey  ...   \n",
       "\n",
       "              smoothed_wdepressed_5d_sample_size  \\\n",
       "index                                              \n",
       "ak2020-04-06                                 NaN   \n",
       "ak2020-04-07                                 NaN   \n",
       "ak2020-04-08                                 NaN   \n",
       "ak2020-04-09                                 NaN   \n",
       "ak2020-04-10                                 NaN   \n",
       "\n",
       "              smoothed_wfelt_isolated_5d_value  \\\n",
       "index                                            \n",
       "ak2020-04-06                               NaN   \n",
       "ak2020-04-07                               NaN   \n",
       "ak2020-04-08                               NaN   \n",
       "ak2020-04-09                               NaN   \n",
       "ak2020-04-10                               NaN   \n",
       "\n",
       "              smoothed_wfelt_isolated_5d_stderr  \\\n",
       "index                                             \n",
       "ak2020-04-06                                NaN   \n",
       "ak2020-04-07                                NaN   \n",
       "ak2020-04-08                                NaN   \n",
       "ak2020-04-09                                NaN   \n",
       "ak2020-04-10                                NaN   \n",
       "\n",
       "              smoothed_wfelt_isolated_5d_sample_size  \\\n",
       "index                                                  \n",
       "ak2020-04-06                                     NaN   \n",
       "ak2020-04-07                                     NaN   \n",
       "ak2020-04-08                                     NaN   \n",
       "ak2020-04-09                                     NaN   \n",
       "ak2020-04-10                                     NaN   \n",
       "\n",
       "              smoothed_wworried_become_ill_value  \\\n",
       "index                                              \n",
       "ak2020-04-06                                 NaN   \n",
       "ak2020-04-07                                 NaN   \n",
       "ak2020-04-08                                 NaN   \n",
       "ak2020-04-09                                 NaN   \n",
       "ak2020-04-10                                 NaN   \n",
       "\n",
       "              smoothed_wworried_become_ill_stderr  \\\n",
       "index                                               \n",
       "ak2020-04-06                                  NaN   \n",
       "ak2020-04-07                                  NaN   \n",
       "ak2020-04-08                                  NaN   \n",
       "ak2020-04-09                                  NaN   \n",
       "ak2020-04-10                                  NaN   \n",
       "\n",
       "              smoothed_wworried_become_ill_sample_size  \\\n",
       "index                                                    \n",
       "ak2020-04-06                                       NaN   \n",
       "ak2020-04-07                                       NaN   \n",
       "ak2020-04-08                                       NaN   \n",
       "ak2020-04-09                                       NaN   \n",
       "ak2020-04-10                                       NaN   \n",
       "\n",
       "              smoothed_wworried_finances_value  \\\n",
       "index                                            \n",
       "ak2020-04-06                               NaN   \n",
       "ak2020-04-07                               NaN   \n",
       "ak2020-04-08                               NaN   \n",
       "ak2020-04-09                               NaN   \n",
       "ak2020-04-10                               NaN   \n",
       "\n",
       "              smoothed_wworried_finances_stderr  \\\n",
       "index                                             \n",
       "ak2020-04-06                                NaN   \n",
       "ak2020-04-07                                NaN   \n",
       "ak2020-04-08                                NaN   \n",
       "ak2020-04-09                                NaN   \n",
       "ak2020-04-10                                NaN   \n",
       "\n",
       "              smoothed_wworried_finances_sample_size  \n",
       "index                                                 \n",
       "ak2020-04-06                                     NaN  \n",
       "ak2020-04-07                                     NaN  \n",
       "ak2020-04-08                                     NaN  \n",
       "ak2020-04-09                                     NaN  \n",
       "ak2020-04-10                                     NaN  \n",
       "\n",
       "[5 rows x 49 columns]"
      ],
      "text/html": "<div>\n<style scoped>\n    .dataframe tbody tr th:only-of-type {\n        vertical-align: middle;\n    }\n\n    .dataframe tbody tr th {\n        vertical-align: top;\n    }\n\n    .dataframe thead th {\n        text-align: right;\n    }\n</style>\n<table border=\"1\" class=\"dataframe\">\n  <thead>\n    <tr style=\"text-align: right;\">\n      <th></th>\n      <th>geo_value</th>\n      <th>signal</th>\n      <th>time_value</th>\n      <th>issue</th>\n      <th>lag</th>\n      <th>smoothed_wcli_value</th>\n      <th>smoothed_wcli_stderr</th>\n      <th>smoothed_wcli_sample_size</th>\n      <th>geo_type</th>\n      <th>data_source</th>\n      <th>...</th>\n      <th>smoothed_wdepressed_5d_sample_size</th>\n      <th>smoothed_wfelt_isolated_5d_value</th>\n      <th>smoothed_wfelt_isolated_5d_stderr</th>\n      <th>smoothed_wfelt_isolated_5d_sample_size</th>\n      <th>smoothed_wworried_become_ill_value</th>\n      <th>smoothed_wworried_become_ill_stderr</th>\n      <th>smoothed_wworried_become_ill_sample_size</th>\n      <th>smoothed_wworried_finances_value</th>\n      <th>smoothed_wworried_finances_stderr</th>\n      <th>smoothed_wworried_finances_sample_size</th>\n    </tr>\n    <tr>\n      <th>index</th>\n      <th></th>\n      <th></th>\n      <th></th>\n      <th></th>\n      <th></th>\n      <th></th>\n      <th></th>\n      <th></th>\n      <th></th>\n      <th></th>\n      <th></th>\n      <th></th>\n      <th></th>\n      <th></th>\n      <th></th>\n      <th></th>\n      <th></th>\n      <th></th>\n      <th></th>\n      <th></th>\n      <th></th>\n    </tr>\n  </thead>\n  <tbody>\n    <tr>\n      <th>ak2020-04-06</th>\n      <td>ak</td>\n      <td>smoothed_wcli</td>\n      <td>2020-04-06</td>\n      <td>2020-09-03</td>\n      <td>150.0</td>\n      <td>1.502092</td>\n      <td>0.700182</td>\n      <td>412.0</td>\n      <td>state</td>\n      <td>fb-survey</td>\n      <td>...</td>\n      <td>NaN</td>\n      <td>NaN</td>\n      <td>NaN</td>\n      <td>NaN</td>\n      <td>NaN</td>\n      <td>NaN</td>\n      <td>NaN</td>\n      <td>NaN</td>\n      <td>NaN</td>\n      <td>NaN</td>\n    </tr>\n    <tr>\n      <th>ak2020-04-07</th>\n      <td>ak</td>\n      <td>smoothed_wcli</td>\n      <td>2020-04-07</td>\n      <td>2020-09-03</td>\n      <td>149.0</td>\n      <td>1.209285</td>\n      <td>0.385696</td>\n      <td>1258.0</td>\n      <td>state</td>\n      <td>fb-survey</td>\n      <td>...</td>\n      <td>NaN</td>\n      <td>NaN</td>\n      <td>NaN</td>\n      <td>NaN</td>\n      <td>NaN</td>\n      <td>NaN</td>\n      <td>NaN</td>\n      <td>NaN</td>\n      <td>NaN</td>\n      <td>NaN</td>\n    </tr>\n    <tr>\n      <th>ak2020-04-08</th>\n      <td>ak</td>\n      <td>smoothed_wcli</td>\n      <td>2020-04-08</td>\n      <td>2020-09-03</td>\n      <td>148.0</td>\n      <td>1.130105</td>\n      <td>0.281751</td>\n      <td>1934.0</td>\n      <td>state</td>\n      <td>fb-survey</td>\n      <td>...</td>\n      <td>NaN</td>\n      <td>NaN</td>\n      <td>NaN</td>\n      <td>NaN</td>\n      <td>NaN</td>\n      <td>NaN</td>\n      <td>NaN</td>\n      <td>NaN</td>\n      <td>NaN</td>\n      <td>NaN</td>\n    </tr>\n    <tr>\n      <th>ak2020-04-09</th>\n      <td>ak</td>\n      <td>smoothed_wcli</td>\n      <td>2020-04-09</td>\n      <td>2020-09-03</td>\n      <td>147.0</td>\n      <td>0.935932</td>\n      <td>0.213790</td>\n      <td>2447.0</td>\n      <td>state</td>\n      <td>fb-survey</td>\n      <td>...</td>\n      <td>NaN</td>\n      <td>NaN</td>\n      <td>NaN</td>\n      <td>NaN</td>\n      <td>NaN</td>\n      <td>NaN</td>\n      <td>NaN</td>\n      <td>NaN</td>\n      <td>NaN</td>\n      <td>NaN</td>\n    </tr>\n    <tr>\n      <th>ak2020-04-10</th>\n      <td>ak</td>\n      <td>smoothed_wcli</td>\n      <td>2020-04-10</td>\n      <td>2020-09-03</td>\n      <td>146.0</td>\n      <td>0.829453</td>\n      <td>0.187829</td>\n      <td>2685.0</td>\n      <td>state</td>\n      <td>fb-survey</td>\n      <td>...</td>\n      <td>NaN</td>\n      <td>NaN</td>\n      <td>NaN</td>\n      <td>NaN</td>\n      <td>NaN</td>\n      <td>NaN</td>\n      <td>NaN</td>\n      <td>NaN</td>\n      <td>NaN</td>\n      <td>NaN</td>\n    </tr>\n  </tbody>\n</table>\n<p>5 rows × 49 columns</p>\n</div>"
     },
     "metadata": {},
     "execution_count": 171
    }
   ],
   "source": [
    "from functools import reduce\n",
    "\n",
    "# data_frames = [\n",
    "#     smoothed_wcli,\n",
    "#     smoothed_hh_cmnty_cli,\n",
    "#     smoothed_wothers_masked,\n",
    "#     smoothed_wwearing_mask,\n",
    "#     smoothed_wtravel_outside_state_5d,\n",
    "#     smoothed_wwork_outside_home_1d,\n",
    "#     smoothed_wspent_time_1d,\n",
    "#     smoothed_wlarge_event_1d,\n",
    "#     smoothed_wpublic_transit_1d,\n",
    "#     smoothed_wanxious_5d,\n",
    "#     smoothed_wdepressed_5d,\n",
    "#     smoothed_wfelt_isolated_5d,\n",
    "#     smoothed_wworried_become_ill,\n",
    "#     smoothed_wworried_finances\n",
    "# ]\n",
    "\n",
    "merged = reduce(lambda left, right: pd.merge(left, right, how='outer',\n",
    "                                             left_index=True, right_index=True,\n",
    "                                             suffixes=('', '_delme')), \n",
    "                indicators.values())\n",
    "merged = merged[[c for c in merged.columns if not c.endswith('_delme')]]\n",
    "print(merged.shape)\n",
    "merged.head()"
   ]
  },
  {
   "source": [
    "# Get JHU cases and deaths data"
   ],
   "cell_type": "markdown",
   "metadata": {}
  },
  {
   "cell_type": "code",
   "execution_count": 188,
   "metadata": {},
   "outputs": [
    {
     "output_type": "stream",
     "name": "stdout",
     "text": [
      "Downloaded confirmed_7dav_cumulative_prop. Shape: (18032, 10)\n",
      "Downloaded confirmed_7dav_incidence_prop. Shape: (18032, 10)\n",
      "Downloaded deaths_7dav_incidence_prop. Shape: (18032, 10)\n",
      "Downloaded confirmed_incidence_prop. Shape: (18032, 10)\n",
      "Downloaded deaths_incidence_prop. Shape: (18032, 10)\n"
     ]
    }
   ],
   "source": [
    "indicators2 = {\n",
    "    'confirmed_7dav_cumulative_prop': None,\n",
    "    'confirmed_7dav_incidence_prop': None,\n",
    "    'deaths_7dav_incidence_prop': None,\n",
    "    'confirmed_incidence_prop': None,\n",
    "    'deaths_incidence_prop': None\n",
    "}\n",
    "\n",
    "for ind in indicators2.keys():\n",
    "    temp = covidcast.signal(\n",
    "        'jhu-csse', ind,\n",
    "        date(2020, 4, 4), date(2021, 2, 19),\n",
    "        geo_type=\"state\"\n",
    "    )\n",
    "\n",
    "    temp['index'] = temp['geo_value'] + temp['time_value'].astype(str)\n",
    "    temp.rename(columns={\n",
    "        'value': f'{ind}_value',\n",
    "        'stderr': f'_delme',\n",
    "        'sample_size': f'_delme'\n",
    "    }, inplace=True)\n",
    "    temp.set_index('index', inplace=True)\n",
    "\n",
    "    indicators2[ind] = temp\n",
    "    print(f'Downloaded {ind}. Shape: {temp.shape}')"
   ]
  },
  {
   "cell_type": "code",
   "execution_count": 186,
   "metadata": {},
   "outputs": [
    {
     "output_type": "stream",
     "name": "stdout",
     "text": [
      "(16396, 51)\n"
     ]
    },
    {
     "output_type": "execute_result",
     "data": {
      "text/plain": [
       "             geo_value time_value      issue    lag  smoothed_wcli_value  \\\n",
       "index                                                                      \n",
       "ak2020-04-06        ak 2020-04-06 2020-09-03  150.0             1.502092   \n",
       "ak2020-04-07        ak 2020-04-07 2020-09-03  149.0             1.209285   \n",
       "ak2020-04-08        ak 2020-04-08 2020-09-03  148.0             1.130105   \n",
       "ak2020-04-09        ak 2020-04-09 2020-09-03  147.0             0.935932   \n",
       "ak2020-04-10        ak 2020-04-10 2020-09-03  146.0             0.829453   \n",
       "\n",
       "              smoothed_wcli_stderr  smoothed_wcli_sample_size geo_type  \\\n",
       "index                                                                    \n",
       "ak2020-04-06              0.700182                      412.0    state   \n",
       "ak2020-04-07              0.385696                     1258.0    state   \n",
       "ak2020-04-08              0.281751                     1934.0    state   \n",
       "ak2020-04-09              0.213790                     2447.0    state   \n",
       "ak2020-04-10              0.187829                     2685.0    state   \n",
       "\n",
       "              smoothed_hh_cmnty_cli_value  smoothed_hh_cmnty_cli_stderr  ...  \\\n",
       "index                                                                    ...   \n",
       "ak2020-04-06                          NaN                           NaN  ...   \n",
       "ak2020-04-07                          NaN                           NaN  ...   \n",
       "ak2020-04-08                          NaN                           NaN  ...   \n",
       "ak2020-04-09                          NaN                           NaN  ...   \n",
       "ak2020-04-10                          NaN                           NaN  ...   \n",
       "\n",
       "              smoothed_wworried_become_ill_value  \\\n",
       "index                                              \n",
       "ak2020-04-06                                 NaN   \n",
       "ak2020-04-07                                 NaN   \n",
       "ak2020-04-08                                 NaN   \n",
       "ak2020-04-09                                 NaN   \n",
       "ak2020-04-10                                 NaN   \n",
       "\n",
       "              smoothed_wworried_become_ill_stderr  \\\n",
       "index                                               \n",
       "ak2020-04-06                                  NaN   \n",
       "ak2020-04-07                                  NaN   \n",
       "ak2020-04-08                                  NaN   \n",
       "ak2020-04-09                                  NaN   \n",
       "ak2020-04-10                                  NaN   \n",
       "\n",
       "              smoothed_wworried_become_ill_sample_size  \\\n",
       "index                                                    \n",
       "ak2020-04-06                                       NaN   \n",
       "ak2020-04-07                                       NaN   \n",
       "ak2020-04-08                                       NaN   \n",
       "ak2020-04-09                                       NaN   \n",
       "ak2020-04-10                                       NaN   \n",
       "\n",
       "              smoothed_wworried_finances_value  \\\n",
       "index                                            \n",
       "ak2020-04-06                               NaN   \n",
       "ak2020-04-07                               NaN   \n",
       "ak2020-04-08                               NaN   \n",
       "ak2020-04-09                               NaN   \n",
       "ak2020-04-10                               NaN   \n",
       "\n",
       "              smoothed_wworried_finances_stderr  \\\n",
       "index                                             \n",
       "ak2020-04-06                                NaN   \n",
       "ak2020-04-07                                NaN   \n",
       "ak2020-04-08                                NaN   \n",
       "ak2020-04-09                                NaN   \n",
       "ak2020-04-10                                NaN   \n",
       "\n",
       "              smoothed_wworried_finances_sample_size  \\\n",
       "index                                                  \n",
       "ak2020-04-06                                     NaN   \n",
       "ak2020-04-07                                     NaN   \n",
       "ak2020-04-08                                     NaN   \n",
       "ak2020-04-09                                     NaN   \n",
       "ak2020-04-10                                     NaN   \n",
       "\n",
       "              confirmed_7dav_cumulative_prop_value  \\\n",
       "index                                                \n",
       "ak2020-04-06                             22.399482   \n",
       "ak2020-04-07                             24.098208   \n",
       "ak2020-04-08                             25.796935   \n",
       "ak2020-04-09                             27.535166   \n",
       "ak2020-04-10                             29.273398   \n",
       "\n",
       "              confirmed_7dav_incidence_prop_value  \\\n",
       "index                                               \n",
       "ak2020-04-06                             1.461695   \n",
       "ak2020-04-07                             1.698726   \n",
       "ak2020-04-08                             1.698726   \n",
       "ak2020-04-09                             1.738231   \n",
       "ak2020-04-10                             1.738231   \n",
       "\n",
       "              deaths_7dav_incidence_prop_value  confirmed_incidence_prop_value  \n",
       "index                                                                           \n",
       "ak2020-04-06                          0.059258                        0.829610  \n",
       "ak2020-04-07                          0.059258                        3.041905  \n",
       "ak2020-04-08                          0.079011                        1.797489  \n",
       "ak2020-04-09                          0.079011                        1.382684  \n",
       "ak2020-04-10                          0.079011                        1.520953  \n",
       "\n",
       "[5 rows x 51 columns]"
      ],
      "text/html": "<div>\n<style scoped>\n    .dataframe tbody tr th:only-of-type {\n        vertical-align: middle;\n    }\n\n    .dataframe tbody tr th {\n        vertical-align: top;\n    }\n\n    .dataframe thead th {\n        text-align: right;\n    }\n</style>\n<table border=\"1\" class=\"dataframe\">\n  <thead>\n    <tr style=\"text-align: right;\">\n      <th></th>\n      <th>geo_value</th>\n      <th>time_value</th>\n      <th>issue</th>\n      <th>lag</th>\n      <th>smoothed_wcli_value</th>\n      <th>smoothed_wcli_stderr</th>\n      <th>smoothed_wcli_sample_size</th>\n      <th>geo_type</th>\n      <th>smoothed_hh_cmnty_cli_value</th>\n      <th>smoothed_hh_cmnty_cli_stderr</th>\n      <th>...</th>\n      <th>smoothed_wworried_become_ill_value</th>\n      <th>smoothed_wworried_become_ill_stderr</th>\n      <th>smoothed_wworried_become_ill_sample_size</th>\n      <th>smoothed_wworried_finances_value</th>\n      <th>smoothed_wworried_finances_stderr</th>\n      <th>smoothed_wworried_finances_sample_size</th>\n      <th>confirmed_7dav_cumulative_prop_value</th>\n      <th>confirmed_7dav_incidence_prop_value</th>\n      <th>deaths_7dav_incidence_prop_value</th>\n      <th>confirmed_incidence_prop_value</th>\n    </tr>\n    <tr>\n      <th>index</th>\n      <th></th>\n      <th></th>\n      <th></th>\n      <th></th>\n      <th></th>\n      <th></th>\n      <th></th>\n      <th></th>\n      <th></th>\n      <th></th>\n      <th></th>\n      <th></th>\n      <th></th>\n      <th></th>\n      <th></th>\n      <th></th>\n      <th></th>\n      <th></th>\n      <th></th>\n      <th></th>\n      <th></th>\n    </tr>\n  </thead>\n  <tbody>\n    <tr>\n      <th>ak2020-04-06</th>\n      <td>ak</td>\n      <td>2020-04-06</td>\n      <td>2020-09-03</td>\n      <td>150.0</td>\n      <td>1.502092</td>\n      <td>0.700182</td>\n      <td>412.0</td>\n      <td>state</td>\n      <td>NaN</td>\n      <td>NaN</td>\n      <td>...</td>\n      <td>NaN</td>\n      <td>NaN</td>\n      <td>NaN</td>\n      <td>NaN</td>\n      <td>NaN</td>\n      <td>NaN</td>\n      <td>22.399482</td>\n      <td>1.461695</td>\n      <td>0.059258</td>\n      <td>0.829610</td>\n    </tr>\n    <tr>\n      <th>ak2020-04-07</th>\n      <td>ak</td>\n      <td>2020-04-07</td>\n      <td>2020-09-03</td>\n      <td>149.0</td>\n      <td>1.209285</td>\n      <td>0.385696</td>\n      <td>1258.0</td>\n      <td>state</td>\n      <td>NaN</td>\n      <td>NaN</td>\n      <td>...</td>\n      <td>NaN</td>\n      <td>NaN</td>\n      <td>NaN</td>\n      <td>NaN</td>\n      <td>NaN</td>\n      <td>NaN</td>\n      <td>24.098208</td>\n      <td>1.698726</td>\n      <td>0.059258</td>\n      <td>3.041905</td>\n    </tr>\n    <tr>\n      <th>ak2020-04-08</th>\n      <td>ak</td>\n      <td>2020-04-08</td>\n      <td>2020-09-03</td>\n      <td>148.0</td>\n      <td>1.130105</td>\n      <td>0.281751</td>\n      <td>1934.0</td>\n      <td>state</td>\n      <td>NaN</td>\n      <td>NaN</td>\n      <td>...</td>\n      <td>NaN</td>\n      <td>NaN</td>\n      <td>NaN</td>\n      <td>NaN</td>\n      <td>NaN</td>\n      <td>NaN</td>\n      <td>25.796935</td>\n      <td>1.698726</td>\n      <td>0.079011</td>\n      <td>1.797489</td>\n    </tr>\n    <tr>\n      <th>ak2020-04-09</th>\n      <td>ak</td>\n      <td>2020-04-09</td>\n      <td>2020-09-03</td>\n      <td>147.0</td>\n      <td>0.935932</td>\n      <td>0.213790</td>\n      <td>2447.0</td>\n      <td>state</td>\n      <td>NaN</td>\n      <td>NaN</td>\n      <td>...</td>\n      <td>NaN</td>\n      <td>NaN</td>\n      <td>NaN</td>\n      <td>NaN</td>\n      <td>NaN</td>\n      <td>NaN</td>\n      <td>27.535166</td>\n      <td>1.738231</td>\n      <td>0.079011</td>\n      <td>1.382684</td>\n    </tr>\n    <tr>\n      <th>ak2020-04-10</th>\n      <td>ak</td>\n      <td>2020-04-10</td>\n      <td>2020-09-03</td>\n      <td>146.0</td>\n      <td>0.829453</td>\n      <td>0.187829</td>\n      <td>2685.0</td>\n      <td>state</td>\n      <td>NaN</td>\n      <td>NaN</td>\n      <td>...</td>\n      <td>NaN</td>\n      <td>NaN</td>\n      <td>NaN</td>\n      <td>NaN</td>\n      <td>NaN</td>\n      <td>NaN</td>\n      <td>29.273398</td>\n      <td>1.738231</td>\n      <td>0.079011</td>\n      <td>1.520953</td>\n    </tr>\n  </tbody>\n</table>\n<p>5 rows × 51 columns</p>\n</div>"
     },
     "metadata": {},
     "execution_count": 186
    }
   ],
   "source": [
    "merged = reduce(lambda left, right: pd.merge(left, right, how='inner',\n",
    "                                             left_index=True, right_index=True,\n",
    "                                             suffixes=('', '_delme')), \n",
    "                [merged] + list(indicators2.values()))\n",
    "merged = merged[[c for c in merged.columns if not c.endswith('_delme')]]\n",
    "merged.drop(['signal', 'data_source'], axis=1, inplace=True)\n",
    "\n",
    "print(merged.shape)\n",
    "merged.head()"
   ]
  },
  {
   "cell_type": "code",
   "execution_count": 187,
   "metadata": {},
   "outputs": [],
   "source": [
    "with open('output2.xlsx', 'wb') as out:\n",
    "    writer = pd.ExcelWriter(out, engine='openpyxl')\n",
    "    merged.to_excel(writer)\n",
    "    writer.save()"
   ]
  },
  {
   "cell_type": "code",
   "execution_count": 183,
   "metadata": {},
   "outputs": [],
   "source": [
    "data = covidcast.signal(\n",
    "        'jhu-csse', 'confirmed_7dav_incidence_prop',\n",
    "        date(2020, 9, 8), date(2021, 2, 19),\n",
    "        geo_type=\"state\"\n",
    ")"
   ]
  },
  {
   "cell_type": "code",
   "execution_count": 184,
   "metadata": {},
   "outputs": [
    {
     "output_type": "stream",
     "name": "stderr",
     "text": [
      "100%|██████████| 322/322 [18:12<00:00,  3.39s/it]\n"
     ]
    }
   ],
   "source": [
    "covidcast.animate(data, 'confirmed_7dav_incidence_prop_sep8_feb19.mp4')"
   ]
  },
  {
   "cell_type": "code",
   "execution_count": null,
   "metadata": {},
   "outputs": [],
   "source": []
  }
 ]
}