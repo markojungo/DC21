{
 "metadata": {
  "language_info": {
   "codemirror_mode": {
    "name": "ipython",
    "version": 3
   },
   "file_extension": ".py",
   "mimetype": "text/x-python",
   "name": "python",
   "nbconvert_exporter": "python",
   "pygments_lexer": "ipython3",
   "version": "3.9.1-final"
  },
  "orig_nbformat": 2,
  "kernelspec": {
   "name": "python3",
   "display_name": "Python 3.9.1 64-bit ('.venv')",
   "metadata": {
    "interpreter": {
     "hash": "92421e52476f6ff33ef831f3ac8f14e6cedc817bd905cef00e1250ed41d24111"
    }
   }
  }
 },
 "nbformat": 4,
 "nbformat_minor": 2,
 "cells": [
  {
   "source": [
    "# API Requests and Data Preprocessing\n",
    "### Citation\n",
    "Junchuan Fan, Yao Li, Kathleen Stewart, Anil R. Kommareddy, Adrianne Bradford, Samantha Chiu, Frauke Kreuter, Neta Barkay, Alyssa Bilinski, Brian Kim, Roee Eliat, Tal Galili, Daniel Haimovich, Sarah LaRocca, Stanley Presser, Katherine Morris, Joshua A Salomon, Elizabeth A. Stuart, Ryan Tibshirani, Tali Alterman Barash, Curtiss Cobb, Andres Garcia, Andi Gros, Ahmed Isa, Alex Kaess, Faisal Karim, Ofir Eretz Kedosha, Shelly Matskel, Roee Melamed, Amey Patankar, Irit Rutenberg, Tal Salmona, David Vannette (2020). COVID-19 World Symptom Survey Data API. https://covidmap.umd.edu/api.html"
   ],
   "cell_type": "markdown",
   "metadata": {}
  },
  {
   "cell_type": "code",
   "execution_count": 2,
   "metadata": {},
   "outputs": [],
   "source": [
    "import requests\n",
    "import json\n",
    "import time\n",
    "from collections import defaultdict"
   ]
  },
  {
   "cell_type": "code",
   "execution_count": 2,
   "metadata": {},
   "outputs": [],
   "source": [
    "# Get all countries\n",
    "response = requests.get('https://covidmap.umd.edu/api/country')\n",
    "countries = [e['country'] for e in json.loads(response.text)['data']]"
   ]
  },
  {
   "cell_type": "code",
   "execution_count": 3,
   "metadata": {},
   "outputs": [],
   "source": [
    "# Get region list\n",
    "response = requests.get('https://covidmap.umd.edu/api/region')\n",
    "regions = defaultdict(list)\n",
    "for e in json.loads(response.text)['data']:\n",
    "    regions[e['country']].append(e['region'])"
   ]
  },
  {
   "source": [
    "## Get all indicator data for the months of October, November, December, and January"
   ],
   "cell_type": "markdown",
   "metadata": {}
  },
  {
   "cell_type": "code",
   "execution_count": 24,
   "metadata": {
    "tags": []
   },
   "outputs": [
    {
     "output_type": "stream",
     "name": "stdout",
     "text": [
      "success: Indicator: covid, Date Range: 20201001-20201031\n",
      "success: Indicator: flu, Date Range: 20201001-20201031\n",
      "success: Indicator: finance, Date Range: 20201001-20201031\n",
      "success: Indicator: contact, Date Range: 20201001-20201031\n",
      "success: Indicator: anosmia, Date Range: 20201001-20201031\n",
      "success: Indicator: vaccine_acpt, Date Range: 20201001-20201031\n",
      "success: Indicator: covid_vaccine, Date Range: 20201001-20201031\n",
      "success: Indicator: trust_fam, Date Range: 20201001-20201031\n",
      "success: Indicator: trust_healthcare, Date Range: 20201001-20201031\n",
      "success: Indicator: trust_who, Date Range: 20201001-20201031\n",
      "success: Indicator: trust_govt, Date Range: 20201001-20201031\n",
      "success: Indicator: trust_politicians, Date Range: 20201001-20201031\n",
      "success: Indicator: twodoses, Date Range: 20201001-20201031\n",
      "success: Indicator: concerned_sideeffects, Date Range: 20201001-20201031\n",
      "success: Indicator: hesitant_sideeffects, Date Range: 20201001-20201031\n",
      "success: Indicator: modified_acceptance, Date Range: 20201001-20201031\n",
      "success: Indicator: access_wash, Date Range: 20201001-20201031\n",
      "success: Indicator: wash_hands_24h_3to6, Date Range: 20201001-20201031\n",
      "success: Indicator: wash_hands_24h_7orMore, Date Range: 20201001-20201031\n",
      "success: Indicator: cmty_covid, Date Range: 20201001-20201031\n",
      "success: Indicator: covid, Date Range: 20201101-20201130\n",
      "success: Indicator: flu, Date Range: 20201101-20201130\n",
      "success: Indicator: finance, Date Range: 20201101-20201130\n",
      "success: Indicator: contact, Date Range: 20201101-20201130\n",
      "success: Indicator: anosmia, Date Range: 20201101-20201130\n",
      "success: Indicator: vaccine_acpt, Date Range: 20201101-20201130\n",
      "success: Indicator: covid_vaccine, Date Range: 20201101-20201130\n",
      "success: Indicator: trust_fam, Date Range: 20201101-20201130\n",
      "success: Indicator: trust_healthcare, Date Range: 20201101-20201130\n",
      "success: Indicator: trust_who, Date Range: 20201101-20201130\n",
      "success: Indicator: trust_govt, Date Range: 20201101-20201130\n",
      "success: Indicator: trust_politicians, Date Range: 20201101-20201130\n",
      "success: Indicator: twodoses, Date Range: 20201101-20201130\n",
      "success: Indicator: concerned_sideeffects, Date Range: 20201101-20201130\n",
      "success: Indicator: hesitant_sideeffects, Date Range: 20201101-20201130\n",
      "success: Indicator: modified_acceptance, Date Range: 20201101-20201130\n",
      "success: Indicator: access_wash, Date Range: 20201101-20201130\n",
      "success: Indicator: wash_hands_24h_3to6, Date Range: 20201101-20201130\n",
      "success: Indicator: wash_hands_24h_7orMore, Date Range: 20201101-20201130\n",
      "success: Indicator: cmty_covid, Date Range: 20201101-20201130\n",
      "success: Indicator: covid, Date Range: 20201201-20201231\n",
      "success: Indicator: flu, Date Range: 20201201-20201231\n",
      "success: Indicator: finance, Date Range: 20201201-20201231\n",
      "success: Indicator: contact, Date Range: 20201201-20201231\n",
      "success: Indicator: anosmia, Date Range: 20201201-20201231\n",
      "success: Indicator: vaccine_acpt, Date Range: 20201201-20201231\n",
      "success: Indicator: covid_vaccine, Date Range: 20201201-20201231\n",
      "success: Indicator: trust_fam, Date Range: 20201201-20201231\n",
      "success: Indicator: trust_healthcare, Date Range: 20201201-20201231\n",
      "success: Indicator: trust_who, Date Range: 20201201-20201231\n",
      "success: Indicator: trust_govt, Date Range: 20201201-20201231\n",
      "success: Indicator: trust_politicians, Date Range: 20201201-20201231\n",
      "success: Indicator: twodoses, Date Range: 20201201-20201231\n",
      "success: Indicator: concerned_sideeffects, Date Range: 20201201-20201231\n",
      "success: Indicator: hesitant_sideeffects, Date Range: 20201201-20201231\n",
      "success: Indicator: modified_acceptance, Date Range: 20201201-20201231\n",
      "success: Indicator: access_wash, Date Range: 20201201-20201231\n",
      "success: Indicator: wash_hands_24h_3to6, Date Range: 20201201-20201231\n",
      "success: Indicator: wash_hands_24h_7orMore, Date Range: 20201201-20201231\n",
      "success: Indicator: cmty_covid, Date Range: 20201201-20201231\n",
      "success: Indicator: covid, Date Range: 20210101-20210131\n",
      "success: Indicator: flu, Date Range: 20210101-20210131\n",
      "success: Indicator: finance, Date Range: 20210101-20210131\n",
      "success: Indicator: contact, Date Range: 20210101-20210131\n",
      "success: Indicator: anosmia, Date Range: 20210101-20210131\n",
      "success: Indicator: vaccine_acpt, Date Range: 20210101-20210131\n",
      "success: Indicator: covid_vaccine, Date Range: 20210101-20210131\n",
      "success: Indicator: trust_fam, Date Range: 20210101-20210131\n",
      "success: Indicator: trust_healthcare, Date Range: 20210101-20210131\n",
      "success: Indicator: trust_who, Date Range: 20210101-20210131\n",
      "success: Indicator: trust_govt, Date Range: 20210101-20210131\n",
      "success: Indicator: trust_politicians, Date Range: 20210101-20210131\n",
      "success: Indicator: twodoses, Date Range: 20210101-20210131\n",
      "success: Indicator: concerned_sideeffects, Date Range: 20210101-20210131\n",
      "success: Indicator: hesitant_sideeffects, Date Range: 20210101-20210131\n",
      "success: Indicator: modified_acceptance, Date Range: 20210101-20210131\n",
      "success: Indicator: access_wash, Date Range: 20210101-20210131\n",
      "success: Indicator: wash_hands_24h_3to6, Date Range: 20210101-20210131\n",
      "success: Indicator: wash_hands_24h_7orMore, Date Range: 20210101-20210131\n",
      "success: Indicator: cmty_covid, Date Range: 20210101-20210131\n",
      "Done\n"
     ]
    }
   ],
   "source": [
    "# Get data\n",
    "date_ranges = [\n",
    "    '20201001-20201031', # Oct\n",
    "    '20201101-20201130', # Nov\n",
    "    '20201201-20201231', # Dec\n",
    "    '20210101-20210131', # Jan\n",
    "]\n",
    "indicators = [\n",
    "    'covid',\n",
    "    'flu',\n",
    "    'finance',\n",
    "    'contact',\n",
    "    'anosmia',\n",
    "    'vaccine_acpt',\n",
    "    'covid_vaccine',\n",
    "    'trust_fam',\n",
    "    'trust_healthcare',\n",
    "    'trust_who',\n",
    "    'trust_govt',\n",
    "    'trust_politicians',\n",
    "    'twodoses',\n",
    "    'concerned_sideeffects',\n",
    "    'hesitant_sideeffects',\n",
    "    'modified_acceptance',\n",
    "    'access_wash',\n",
    "    'wash_hands_24h_3to6',\n",
    "    'wash_hands_24h_7orMore',\n",
    "    'cmty_covid'\n",
    "]\n",
    "\n",
    "data = {} # will be used to merge all data\n",
    "\n",
    "# Merge data from api\n",
    "for r in date_ranges:\n",
    "    for i in indicators:\n",
    "        response = requests.get(f'https://covidmap.umd.edu/api/resources?indicator={i}&type=daily&country=all&daterange={r}')\n",
    "        for e in json.loads(response.text)['data']:\n",
    "            k = f\"{e['iso_code']}_{e['survey_date']}\"\n",
    "        \n",
    "            data[k] = {**data.get(k, {}), **e}\n",
    "\n",
    "        time.sleep(0.1)\n",
    "        print(f\"{json.loads(response.text)['status']}: Indicator: {i}, Date Range: {r}\")\n",
    "\n",
    "\n",
    "print('Done')"
   ]
  },
  {
   "cell_type": "code",
   "execution_count": 25,
   "metadata": {
    "tags": []
   },
   "outputs": [],
   "source": [
    "import pprint\n",
    "\n",
    "response = requests.get('https://api.covid19api.com/countries')\n",
    "countries = json.loads(countries.text)\n",
    "\n",
    "response = requests.get('https://api.covid19api.com/summary')\n",
    "response = json.loads(response.text)\n",
    "\n",
    "pp = pprint.PrettyPrinter(indent=2)\n",
    "for e in response['Countries']:\n",
    "    # reformat date and remove time\n",
    "    date = e['Date']\n",
    "    date = date[0:4] + date[8:10] + date[5:7]\n",
    "\n",
    "    k = f\"{e['CountryCode']}_{date}\"\n",
    "    if k in data:\n",
    "        data[k] = {**data[k], **e}"
   ]
  },
  {
   "source": [
    "## Some preprocessing"
   ],
   "cell_type": "markdown",
   "metadata": {}
  },
  {
   "cell_type": "code",
   "execution_count": 32,
   "metadata": {
    "tags": []
   },
   "outputs": [],
   "source": [
    "import csv\n",
    "# keys = set().union(*(d.keys() for d in data.values()))\n",
    "# keys = list(keys)\n",
    "# keys.sort()\n",
    "\n",
    "# Manually determine key order\n",
    "keys = [\n",
    "    'gid_0','iso_code','country', 'sample_size', 'survey_date', \n",
    "    'access_wash_se', 'access_wash_se_unw', 'anos_se', \n",
    "    'anos_se_unw', 'cli_se', 'cli_se_unw', 'community_cli_se', \n",
    "    'community_cli_se_unw', 'dc_se_unw', 'hf_se', 'hf_se_unw', 'ili_se', 'ili_se_unw',\n",
    "    'mc_se', 'pct_access_wash', 'pct_access_wash_unw', 'pct_community_cli', 'pct_community_cli_unw', 'pct_trust_fam', \n",
    "    'pct_trust_fam_unw', 'pct_trust_govt', 'pct_trust_govt_unw', 'pct_trust_healthcare', 'pct_trust_healthcare_unw', \n",
    "    'pct_trust_politicians', 'pct_trust_politicians_unw', 'pct_trust_who', 'pct_trust_who_unw', 'pct_wash_hands_24h_3to6', \n",
    "    'pct_wash_hands_24h_3to6_unw', 'pct_wash_hands_24h_7ormore', 'pct_wash_hands_24h_7ormore_unw', 'percent_anos', \n",
    "    'percent_anos_unw', 'percent_cli', 'percent_cli_unw', 'percent_dc', 'percent_dc_unw', 'percent_hf', 'percent_hf_unw', \n",
    "    'percent_ili', 'percent_ili_unw', 'percent_vu', 'percent_vu_unw', 'trust_fam_se', \n",
    "    'trust_fam_se_unw', 'trust_govt_se', 'trust_govt_se_unw', 'trust_healthcare_se', 'trust_healthcare_se_unw', \n",
    "    'trust_politicians_se', 'trust_politicians_se_unw', 'trust_who_se', 'trust_who_se_unw', 'vu_se', 'vu_se_unw',\n",
    "    'wash_hands_24h_3to6_se', 'wash_hands_24h_3to6_se_unw', 'wash_hands_24h_7ormore_se', 'wash_hands_24h_7ormore_se_unw', 'hesitant_sideeffects_se_unw', 'pct_hesitant_sideeffects', 'pct_concerned_sideeffects_unw', 'concerned_sideeffects_se', 'pct_concerned_sideeffects', 'concerned_sideeffects_se_unw', 'hesitant_sideeffects_se', 'pct_hesitant_sideeffects_unw', 'covid_vaccine_se', 'pct_covid_vaccine_unw', 'pct_covid_vaccine', 'covid_vaccine_se_unw', 'modified_acceptance_se', 'pct_modified_acceptance', 'pct_modified_acceptance_unw', 'modified_acceptance_se_unw', 'twodoses_se', 'pct_twodoses_unw', 'pct_twodoses', 'twodoses_se_unw'\n",
    "]\n",
    "with open('compiled.csv', 'w', newline='') as outfile:\n",
    "    writer = csv.DictWriter(outfile, fieldnames=keys)\n",
    "    writer.writeheader()\n",
    "    writer.writerows(data.values())"
   ]
  },
  {
   "cell_type": "code",
   "execution_count": null,
   "metadata": {},
   "outputs": [],
   "source": []
  }
 ]
}